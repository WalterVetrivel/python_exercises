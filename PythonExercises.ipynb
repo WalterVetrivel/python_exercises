{
 "cells": [
  {
   "cell_type": "code",
   "execution_count": 3,
   "metadata": {},
   "outputs": [
    {
     "name": "stdin",
     "output_type": "stream",
     "text": [
      "Enter a number 28\n"
     ]
    },
    {
     "name": "stdout",
     "output_type": "stream",
     "text": [
      "35\n"
     ]
    }
   ],
   "source": [
    "# Set x to the smallest mutiple of 7 that is > n\n",
    "n = int(input('Enter a number'))\n",
    "x = 0\n",
    "while x <= n:\n",
    "    x += 7\n",
    "print(x)"
   ]
  },
  {
   "cell_type": "code",
   "execution_count": 4,
   "metadata": {},
   "outputs": [
    {
     "name": "stdin",
     "output_type": "stream",
     "text": [
      "Enter a number 28\n"
     ]
    },
    {
     "name": "stdout",
     "output_type": "stream",
     "text": [
      "28\n"
     ]
    }
   ],
   "source": [
    "# Set x to the smallest mutiple of 7 that is >= n\n",
    "n = int(input('Enter a number'))\n",
    "x = 0\n",
    "while x < n:\n",
    "    x += 7\n",
    "print(x)"
   ]
  },
  {
   "cell_type": "code",
   "execution_count": 6,
   "metadata": {},
   "outputs": [
    {
     "name": "stdin",
     "output_type": "stream",
     "text": [
      "Enter a number 29\n"
     ]
    },
    {
     "name": "stdout",
     "output_type": "stream",
     "text": [
      "28\n"
     ]
    }
   ],
   "source": [
    "# Set x to the largest mutiple of 7 that is < n\n",
    "n = int(input('Enter a number'))\n",
    "x = 0\n",
    "while x + 7 < n:\n",
    "    x += 7\n",
    "print(x)"
   ]
  },
  {
   "cell_type": "code",
   "execution_count": 11,
   "metadata": {},
   "outputs": [
    {
     "name": "stdin",
     "output_type": "stream",
     "text": [
      "Enter a number 29\n"
     ]
    },
    {
     "name": "stdout",
     "output_type": "stream",
     "text": [
      "28\n"
     ]
    }
   ],
   "source": [
    "# Set x to the largest mutiple of 7 that is <= n\n",
    "n = int(input('Enter a number'))\n",
    "x = 0\n",
    "while x + 7 <= n:\n",
    "    x += 7\n",
    "print(x)"
   ]
  },
  {
   "cell_type": "code",
   "execution_count": 14,
   "metadata": {},
   "outputs": [
    {
     "name": "stdin",
     "output_type": "stream",
     "text": [
      "Enter a number 10\n",
      "Enter a number 40\n"
     ]
    },
    {
     "name": "stdout",
     "output_type": "stream",
     "text": [
      "4\n",
      "4\n"
     ]
    }
   ],
   "source": [
    "# Set x to the number of multiples of 7 between m & n inclusive\n",
    "m = int(input('Enter a number'))\n",
    "n = int(input('Enter a number'))\n",
    "\n",
    "# using for loop\n",
    "x = 0\n",
    "for i in range(m, n+1):\n",
    "    if i % 7 == 0:\n",
    "        x += 1\n",
    "print(x)\n",
    "\n",
    "# using while loop\n",
    "x = 0\n",
    "while m <= n:\n",
    "    if m % 7 == 0:\n",
    "        x += 1\n",
    "    m += 1\n",
    "print(x)"
   ]
  },
  {
   "cell_type": "code",
   "execution_count": 21,
   "metadata": {},
   "outputs": [
    {
     "name": "stdin",
     "output_type": "stream",
     "text": [
      "Enter a number 15\n"
     ]
    },
    {
     "name": "stdout",
     "output_type": "stream",
     "text": [
      "False\n",
      "False\n",
      "False\n"
     ]
    }
   ],
   "source": [
    "# Set x to True if n is a multiple of 7 and False otherwise\n",
    "n = int(input('Enter a number'))\n",
    "\n",
    "# No conditionals\n",
    "x = n % 7 == 0\n",
    "print(x)\n",
    "\n",
    "# Using if else\n",
    "if n % 7 == 0:\n",
    "    x = True\n",
    "else:\n",
    "    x = False\n",
    "print(x)\n",
    "\n",
    "# Using ternary\n",
    "x = True if n % 7 == 0 else False\n",
    "print(x)"
   ]
  },
  {
   "cell_type": "code",
   "execution_count": 28,
   "metadata": {},
   "outputs": [
    {
     "name": "stdin",
     "output_type": "stream",
     "text": [
      "Enter a number 32\n"
     ]
    },
    {
     "name": "stdout",
     "output_type": "stream",
     "text": [
      "64\n",
      "64\n"
     ]
    }
   ],
   "source": [
    "# Set x to the smallest power of 2 that is greater than n\n",
    "n = int(input('Enter a number'))\n",
    "\n",
    "# using while loop\n",
    "i = 0\n",
    "x = 0\n",
    "while(x <= n):\n",
    "    x = pow(2, i)\n",
    "    i += 1\n",
    "print(x)\n",
    "\n",
    "# using for loop\n",
    "for i in range(0, n + 1):\n",
    "    x = pow(2, i)\n",
    "    if x > n:\n",
    "        break\n",
    "print(x)"
   ]
  },
  {
   "cell_type": "code",
   "execution_count": 30,
   "metadata": {},
   "outputs": [
    {
     "name": "stdin",
     "output_type": "stream",
     "text": [
      "Enter a number 32\n"
     ]
    },
    {
     "name": "stdout",
     "output_type": "stream",
     "text": [
      "32\n",
      "32\n"
     ]
    }
   ],
   "source": [
    "# Set x to the smallest power of 2 that is greater than or equal to n\n",
    "n = int(input('Enter a number'))\n",
    "\n",
    "# using while loop\n",
    "i = 0\n",
    "x = 0\n",
    "while(x < n):\n",
    "    x = pow(2, i)\n",
    "    i += 1\n",
    "print(x)\n",
    "\n",
    "# using for loop\n",
    "for i in range(0, n):\n",
    "    x = pow(2, i)\n",
    "    if x >= n:\n",
    "        break\n",
    "print(x)"
   ]
  },
  {
   "cell_type": "code",
   "execution_count": 36,
   "metadata": {},
   "outputs": [
    {
     "name": "stdin",
     "output_type": "stream",
     "text": [
      "Enter a number 32\n"
     ]
    },
    {
     "name": "stdout",
     "output_type": "stream",
     "text": [
      "16\n",
      "16\n"
     ]
    }
   ],
   "source": [
    "# Set x to the largest power of 2 that is < n\n",
    "n = int(input('Enter a number'))\n",
    "\n",
    "# using while loop\n",
    "i = 0\n",
    "x = 0\n",
    "while pow(2, i) < n:\n",
    "    x = pow(2, i)\n",
    "    i += 1\n",
    "print(x)\n",
    "\n",
    "# using for loop\n",
    "x = 0\n",
    "for i in range(0, n):\n",
    "    if pow(2, i) >= n:\n",
    "        break\n",
    "    x = pow(2, i)\n",
    "print(x)"
   ]
  },
  {
   "cell_type": "code",
   "execution_count": 38,
   "metadata": {},
   "outputs": [
    {
     "name": "stdin",
     "output_type": "stream",
     "text": [
      "Enter a number 32\n"
     ]
    },
    {
     "name": "stdout",
     "output_type": "stream",
     "text": [
      "32\n",
      "32\n"
     ]
    }
   ],
   "source": [
    "# Set x to the largest power of 2 that is <= n\n",
    "n = int(input('Enter a number'))\n",
    "\n",
    "# using while loop\n",
    "i = 0\n",
    "x = 0\n",
    "while pow(2, i) <= n:\n",
    "    x = pow(2, i)\n",
    "    i += 1\n",
    "print(x)\n",
    "\n",
    "# using for loop\n",
    "for i in range(0, n):\n",
    "    if pow(2, i) > n:\n",
    "        break\n",
    "    x = pow(2, i)\n",
    "print(x)"
   ]
  },
  {
   "cell_type": "code",
   "execution_count": 47,
   "metadata": {},
   "outputs": [
    {
     "name": "stdin",
     "output_type": "stream",
     "text": [
      "Enter a number 30\n"
     ]
    },
    {
     "name": "stdout",
     "output_type": "stream",
     "text": [
      "False\n"
     ]
    }
   ],
   "source": [
    "# Set x to True if n is a power of 2 and False otherwise\n",
    "n = int(input('Enter a number'))\n",
    "\n",
    "if n % 2 != 0:\n",
    "    x = False\n",
    "else:\n",
    "    while True:\n",
    "        q = n // 2\n",
    "        r = q % 2\n",
    "        if q != 1 and r != 0:\n",
    "            x = False\n",
    "            break\n",
    "        elif q == 2 and r == 0:\n",
    "            x = True\n",
    "            break\n",
    "        else:\n",
    "            n = q\n",
    "print(x)"
   ]
  },
  {
   "cell_type": "code",
   "execution_count": 56,
   "metadata": {},
   "outputs": [
    {
     "name": "stdin",
     "output_type": "stream",
     "text": [
      "Enter a number 25\n"
     ]
    },
    {
     "name": "stdout",
     "output_type": "stream",
     "text": [
      "36\n",
      "36\n"
     ]
    }
   ],
   "source": [
    "# Set x to the smallest perfect square that is > n\n",
    "n = int(input('Enter a number'))\n",
    "\n",
    "# using while loop\n",
    "x = 0\n",
    "i = 0\n",
    "while x <= n:\n",
    "    x = pow(i, 2)\n",
    "    i += 1\n",
    "print(x)\n",
    "\n",
    "# using for loop\n",
    "x = 0\n",
    "for i in range(0, n + 1):\n",
    "    if x > n:\n",
    "        break\n",
    "    x = pow(i, 2)\n",
    "print(x)"
   ]
  },
  {
   "cell_type": "code",
   "execution_count": 62,
   "metadata": {},
   "outputs": [
    {
     "name": "stdin",
     "output_type": "stream",
     "text": [
      "Enter a number 22\n"
     ]
    },
    {
     "name": "stdout",
     "output_type": "stream",
     "text": [
      "25\n",
      "25\n"
     ]
    }
   ],
   "source": [
    "# Set x to the smallest perfect square that is >= n\n",
    "n = int(input('Enter a number'))\n",
    "\n",
    "# using while loop\n",
    "x = 0\n",
    "i = 0\n",
    "while x < n:\n",
    "    x = pow(i, 2)\n",
    "    i += 1\n",
    "print(x)\n",
    "\n",
    "# using for loop\n",
    "x = 0\n",
    "for i in range(0, n):\n",
    "    if x >= n:\n",
    "        break\n",
    "    x = pow(i, 2)\n",
    "print(x)"
   ]
  },
  {
   "cell_type": "code",
   "execution_count": 6,
   "metadata": {},
   "outputs": [
    {
     "name": "stdin",
     "output_type": "stream",
     "text": [
      "Enter a number 37\n"
     ]
    },
    {
     "name": "stdout",
     "output_type": "stream",
     "text": [
      "36\n",
      "36\n"
     ]
    }
   ],
   "source": [
    "# Set x to the largest perfect square that is < n\n",
    "n = int(input('Enter a number'))\n",
    "\n",
    "# using while loop\n",
    "i = 0\n",
    "x = 0\n",
    "while pow(i, 2) < n:\n",
    "    x = pow(i, 2)\n",
    "    i += 1\n",
    "print(x)\n",
    "\n",
    "# using for loop\n",
    "x = 0\n",
    "for i in range(0, n):\n",
    "    if pow(i, 2) >= n:\n",
    "        break\n",
    "    x = pow(i, 2)\n",
    "print(x)"
   ]
  },
  {
   "cell_type": "code",
   "execution_count": 7,
   "metadata": {},
   "outputs": [
    {
     "name": "stdin",
     "output_type": "stream",
     "text": [
      "Enter a number 36\n"
     ]
    },
    {
     "name": "stdout",
     "output_type": "stream",
     "text": [
      "36\n",
      "36\n"
     ]
    }
   ],
   "source": [
    "# Set x to the largest perfect square that is <= n\n",
    "n = int(input('Enter a number'))\n",
    "\n",
    "# using while loop\n",
    "i = 0\n",
    "x = 0\n",
    "while pow(i, 2) <= n:\n",
    "    x = pow(i, 2)\n",
    "    i += 1\n",
    "print(x)\n",
    "\n",
    "# using for loop\n",
    "x = 0\n",
    "for i in range(0, n):\n",
    "    if pow(i, 2) > n:\n",
    "        break\n",
    "    x = pow(i, 2)\n",
    "print(x)"
   ]
  },
  {
   "cell_type": "code",
   "execution_count": 17,
   "metadata": {},
   "outputs": [
    {
     "name": "stdin",
     "output_type": "stream",
     "text": [
      "Enter a number 5\n"
     ]
    },
    {
     "name": "stdout",
     "output_type": "stream",
     "text": [
      "*\n",
      "**\n",
      "***\n",
      "****\n",
      "*****\n"
     ]
    }
   ],
   "source": [
    "# Patterns\n",
    "n = int(input('Enter a number'))\n",
    "\n",
    "for i in range(0, n):\n",
    "    print('*' * (i + 1))"
   ]
  },
  {
   "cell_type": "code",
   "execution_count": 18,
   "metadata": {},
   "outputs": [
    {
     "name": "stdin",
     "output_type": "stream",
     "text": [
      "Enter a number 5\n"
     ]
    },
    {
     "name": "stdout",
     "output_type": "stream",
     "text": [
      "& & & & & \n",
      "& & & & \n",
      "& & & \n",
      "& & \n",
      "& \n",
      "\n"
     ]
    }
   ],
   "source": [
    "# Patterns\n",
    "n = int(input('Enter a number'))\n",
    "\n",
    "for i in range(0, n + 1):\n",
    "#     for j in range(0, n - i):\n",
    "#         print('&', end=' ')\n",
    "#     print()\n",
    "    print('& ' * (n - i))"
   ]
  },
  {
   "cell_type": "code",
   "execution_count": 16,
   "metadata": {},
   "outputs": [
    {
     "name": "stdin",
     "output_type": "stream",
     "text": [
      "Enter a number 5\n"
     ]
    },
    {
     "name": "stdout",
     "output_type": "stream",
     "text": [
      "1 2 3 4 \n",
      "2 3 4 \n",
      "3 4 \n",
      "4 \n",
      "\n",
      "\n"
     ]
    }
   ],
   "source": [
    "# Patterns\n",
    "n = int(input('Enter a number'))\n",
    "\n",
    "for i in range(0, n + 1):\n",
    "    for j in range(i + 1, n):\n",
    "        print(j, end=' ')\n",
    "    print()"
   ]
  },
  {
   "cell_type": "code",
   "execution_count": 21,
   "metadata": {},
   "outputs": [
    {
     "name": "stdin",
     "output_type": "stream",
     "text": [
      "Enter a number 5\n"
     ]
    },
    {
     "name": "stdout",
     "output_type": "stream",
     "text": [
      "1 \n",
      "2 2 \n",
      "3 3 3 \n",
      "4 4 4 4 \n",
      "5 5 5 5 5 \n"
     ]
    }
   ],
   "source": [
    "# Patterns\n",
    "n = int(input('Enter a number'))\n",
    "\n",
    "for i in range(0, n):\n",
    "#     for j in range(0, i + 1):\n",
    "#         print(i + 1, end=' ')\n",
    "#     print()\n",
    "    print(f'{i + 1} ' * (i + 1))"
   ]
  },
  {
   "cell_type": "code",
   "execution_count": 25,
   "metadata": {},
   "outputs": [
    {
     "name": "stdin",
     "output_type": "stream",
     "text": [
      "Enter a number 5\n"
     ]
    },
    {
     "name": "stdout",
     "output_type": "stream",
     "text": [
      "  1 2 3 4 \n",
      "    2 3 4 \n",
      "      3 4 \n",
      "        4 \n"
     ]
    }
   ],
   "source": [
    "# Patterns\n",
    "n = int(input('Enter a number'))\n",
    "\n",
    "for i in range(1, n):\n",
    "    for j in range(0, i):\n",
    "        print(' ', end=' ')\n",
    "    for j in range(i, n):\n",
    "        print(j, end=' ')\n",
    "    print()"
   ]
  },
  {
   "cell_type": "code",
   "execution_count": 29,
   "metadata": {},
   "outputs": [
    {
     "name": "stdin",
     "output_type": "stream",
     "text": [
      "Enter a number 5\n"
     ]
    },
    {
     "name": "stdout",
     "output_type": "stream",
     "text": [
      "  1  2  3  4  5\n",
      "  2  4  6  8 10\n",
      "  3  6  9 12 15\n",
      "  4  8 12 16 20\n",
      "  5 10 15 20 25\n"
     ]
    }
   ],
   "source": [
    "# Patterns\n",
    "n = int(input('Enter a number'))\n",
    "\n",
    "for i in range(1, n + 1):\n",
    "    for j in range(1, n + 1):\n",
    "        print(str(j * i).rjust(3), end='')\n",
    "    print()"
   ]
  },
  {
   "cell_type": "code",
   "execution_count": 30,
   "metadata": {},
   "outputs": [
    {
     "name": "stdin",
     "output_type": "stream",
     "text": [
      "Enter a number 10\n",
      "Enter a number 20\n"
     ]
    },
    {
     "name": "stdout",
     "output_type": "stream",
     "text": [
      "5\n"
     ]
    }
   ],
   "source": [
    "# Count how many numbers x between m and n (inclusive) have sin(x) > 0\n",
    "from math import sin\n",
    "\n",
    "m = int(input('Enter a number'))\n",
    "n = int(input('Enter a number'))\n",
    "\n",
    "x = 0\n",
    "for i in range(m, n + 1):\n",
    "    if sin(i) > 0:\n",
    "        x += 1\n",
    "print(x)"
   ]
  },
  {
   "cell_type": "code",
   "execution_count": 32,
   "metadata": {},
   "outputs": [
    {
     "name": "stdin",
     "output_type": "stream",
     "text": [
      "Enter a number 10\n",
      "Enter a number 20\n"
     ]
    },
    {
     "name": "stdout",
     "output_type": "stream",
     "text": [
      "14\n"
     ]
    }
   ],
   "source": [
    "# Find the number between m & n (inclusive) whose sin is the largest\n",
    "from math import sin\n",
    "\n",
    "m = int(input('Enter a number'))\n",
    "n = int(input('Enter a number'))\n",
    "\n",
    "x = sin(m)\n",
    "for i in range(m + 1, n + 1):\n",
    "    if sin(i) > sin(x):\n",
    "        x = i\n",
    "print(x)"
   ]
  },
  {
   "cell_type": "code",
   "execution_count": 33,
   "metadata": {},
   "outputs": [
    {
     "name": "stdin",
     "output_type": "stream",
     "text": [
      "Enter a number 40\n"
     ]
    },
    {
     "name": "stdout",
     "output_type": "stream",
     "text": [
      "37\n"
     ]
    }
   ],
   "source": [
    "# Find the largest integer < n whose sin is negative\n",
    "from math import sin\n",
    "\n",
    "n = int(input('Enter a number'))\n",
    "\n",
    "x = 0\n",
    "for i in range(0, n):\n",
    "    if sin(i) < 0:\n",
    "        x = i\n",
    "print(x)"
   ]
  },
  {
   "cell_type": "code",
   "execution_count": 36,
   "metadata": {},
   "outputs": [
    {
     "name": "stdin",
     "output_type": "stream",
     "text": [
      "Enter a number 20\n"
     ]
    },
    {
     "name": "stdout",
     "output_type": "stream",
     "text": [
      "22\n"
     ]
    }
   ],
   "source": [
    "# Find the first integer i which is > n and sin(i) has opposite sign to sin(i - 1)\n",
    "from math import sin\n",
    "\n",
    "n = int(input('Enter a number'))\n",
    "\n",
    "i = n + 1\n",
    "while True:\n",
    "    if (sin(i) > 0 and sin(i - 1) < 0) or (sin(i) < 0 and sin(i - 1) > 0):\n",
    "        break\n",
    "    i += 1\n",
    "print(i)"
   ]
  },
  {
   "cell_type": "code",
   "execution_count": 38,
   "metadata": {},
   "outputs": [
    {
     "name": "stdin",
     "output_type": "stream",
     "text": [
      "Enter a number 5\n"
     ]
    },
    {
     "name": "stdout",
     "output_type": "stream",
     "text": [
      "[3, 5, 2, 7]\n"
     ]
    }
   ],
   "source": [
    "# Add element to list if not present in list\n",
    "list1 = [3, 5, 2, 7]\n",
    "\n",
    "n = int(input('Enter a number'))\n",
    "\n",
    "if n not in list1:\n",
    "    list1.append(n)\n",
    "print(list1)"
   ]
  },
  {
   "cell_type": "code",
   "execution_count": 43,
   "metadata": {},
   "outputs": [
    {
     "name": "stdout",
     "output_type": "stream",
     "text": [
      "3 0\n",
      "5 1\n",
      "2 2\n",
      "7 3\n",
      "1 4\n",
      "[7, 5, 2, 3, 1]\n"
     ]
    }
   ],
   "source": [
    "# Swap the first element with the largest\n",
    "list1 = [3, 5, 2, 7, 1]\n",
    "\n",
    "largest = list1[0]\n",
    "largest_index = 0\n",
    "for index, el in enumerate(list1):\n",
    "    print(el, index)\n",
    "    if el > largest:\n",
    "        largest = el\n",
    "        largest_index = index\n",
    "\n",
    "list1[largest_index] = list1[0]\n",
    "list1[0] = largest\n",
    "print(list1)"
   ]
  },
  {
   "cell_type": "code",
   "execution_count": 49,
   "metadata": {},
   "outputs": [
    {
     "name": "stdout",
     "output_type": "stream",
     "text": [
      "[5, 2, 7, 1, 3]\n",
      "[5, 2, 7, 1, 3]\n"
     ]
    }
   ],
   "source": [
    "# Shift elements left\n",
    "list1 = [3, 5, 2, 7, 1]\n",
    "\n",
    "# without loop\n",
    "shifted_left = list1[1:]\n",
    "shifted_left.append(list1[0])\n",
    "\n",
    "print(shifted_left)\n",
    "\n",
    "# using loop\n",
    "shifted_left = list()\n",
    "for i in range(0, len(list1) - 1):\n",
    "    shifted_left.append(list1[i + 1])\n",
    "shifted_left.append(list1[0])\n",
    "print(shifted_left)"
   ]
  },
  {
   "cell_type": "code",
   "execution_count": 51,
   "metadata": {},
   "outputs": [
    {
     "name": "stdout",
     "output_type": "stream",
     "text": [
      "[1, 3, 5, 2, 7]\n"
     ]
    }
   ],
   "source": [
    "# Shift elements right\n",
    "list1 = [3, 5, 2, 7, 1]\n",
    "\n",
    "shifted_right = [list1[len(list1) - 1]]\n",
    "for i in range(0, len(list1) - 1):\n",
    "    shifted_right.append(list1[i])\n",
    "print(shifted_right)"
   ]
  },
  {
   "cell_type": "code",
   "execution_count": 52,
   "metadata": {},
   "outputs": [
    {
     "name": "stdout",
     "output_type": "stream",
     "text": [
      "[3, 8, 10, 17, 18]\n"
     ]
    }
   ],
   "source": [
    "# Cumulative sum of list\n",
    "list1 = [3, 5, 2, 7, 1]\n",
    "\n",
    "cumulative_sum_list = list()\n",
    "cumulative_sum = 0\n",
    "for el in list1:\n",
    "    cumulative_sum += el\n",
    "    cumulative_sum_list.append(cumulative_sum)\n",
    "print(cumulative_sum_list)"
   ]
  },
  {
   "cell_type": "code",
   "execution_count": 1,
   "metadata": {},
   "outputs": [
    {
     "data": {
      "text/plain": [
       "'\\n    *\\n   ***\\n  *****\\n *******\\n*********\\n *******\\n  *****\\n   ***\\n    *\\n'"
      ]
     },
     "execution_count": 1,
     "metadata": {},
     "output_type": "execute_result"
    }
   ],
   "source": [
    "\"\"\"\n",
    "    *\n",
    "   * *\n",
    "  * * *\n",
    " * * * *\n",
    "* * * * *\n",
    "\"\"\"\n",
    "\n",
    "\"\"\"\n",
    "*\n",
    "* *\n",
    "* * *\n",
    "* * * *\n",
    "* * *\n",
    "* *\n",
    "*\n",
    "\"\"\"\n",
    "\n",
    "\"\"\"\n",
    "    *\n",
    "   ***\n",
    "  *****\n",
    " *******\n",
    "*********\n",
    " *******\n",
    "  *****\n",
    "   ***\n",
    "    *\n",
    "\"\"\""
   ]
  },
  {
   "cell_type": "code",
   "execution_count": 4,
   "metadata": {},
   "outputs": [
    {
     "name": "stdin",
     "output_type": "stream",
     "text": [
      "Enter a number 5\n"
     ]
    },
    {
     "name": "stdout",
     "output_type": "stream",
     "text": [
      "      \n",
      "     * \n",
      "    * * \n",
      "   * * * \n",
      "  * * * * \n",
      " * * * * * \n"
     ]
    }
   ],
   "source": [
    "n = int(input('Enter a number'))\n",
    "\n",
    "for i in range (0, n + 1):\n",
    "    for j in range(n + 1 - i):\n",
    "        print(' ', end='')\n",
    "    for j in range(0, i):\n",
    "        print('*', end=' ')\n",
    "    print()"
   ]
  },
  {
   "cell_type": "code",
   "execution_count": 16,
   "metadata": {},
   "outputs": [
    {
     "name": "stdin",
     "output_type": "stream",
     "text": [
      "Enter a number 4\n"
     ]
    },
    {
     "name": "stdout",
     "output_type": "stream",
     "text": [
      "* \n",
      "* * \n",
      "* * * \n",
      "* * * * \n",
      "* * * \n",
      "* * \n",
      "* \n"
     ]
    }
   ],
   "source": [
    "n = int(input('Enter a number'))\n",
    "\n",
    "for i in range(0, n):\n",
    "    print('* ' * (i + 1))\n",
    "for i in range(n - 1, 0, -1):\n",
    "    print('* ' * (i))"
   ]
  },
  {
   "cell_type": "code",
   "execution_count": 31,
   "metadata": {},
   "outputs": [
    {
     "name": "stdin",
     "output_type": "stream",
     "text": [
      "Enter a number 5\n"
     ]
    },
    {
     "name": "stdout",
     "output_type": "stream",
     "text": [
      "     \n",
      "    *\n",
      "   ***\n",
      "  *****\n",
      " *******\n",
      "*********\n",
      " *******\n",
      "  *****\n",
      "   ***\n",
      "    *\n"
     ]
    }
   ],
   "source": [
    "n = int(input('Enter a number'))\n",
    "\n",
    "for i in range(0, n + 1):\n",
    "#     for j in range(n - i):\n",
    "#         print(' ', end='')\n",
    "#     for j in range(0, (2 * i) - 1):\n",
    "#         print('*', end='')\n",
    "#     print()\n",
    "    print(' ' * (n - i), end='')\n",
    "    print('*' * ((2 * i) - 1))\n",
    "for i in range(n - 1, 0, -1):\n",
    "    print(' ' * (n - i), end='')\n",
    "    print('*' * ((2 * i) - 1))"
   ]
  },
  {
   "cell_type": "code",
   "execution_count": null,
   "metadata": {},
   "outputs": [],
   "source": []
  }
 ],
 "metadata": {
  "kernelspec": {
   "display_name": "Python 3",
   "language": "python",
   "name": "python3"
  },
  "language_info": {
   "codemirror_mode": {
    "name": "ipython",
    "version": 3
   },
   "file_extension": ".py",
   "mimetype": "text/x-python",
   "name": "python",
   "nbconvert_exporter": "python",
   "pygments_lexer": "ipython3",
   "version": "3.7.4"
  }
 },
 "nbformat": 4,
 "nbformat_minor": 4
}
